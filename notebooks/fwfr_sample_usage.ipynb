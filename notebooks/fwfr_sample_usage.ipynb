{
 "cells": [
  {
   "cell_type": "markdown",
   "metadata": {},
   "source": [
    "# Fixed-Width File Reader Sample Usage\n",
    "**Fixed-width files**: each field in a column is padded to a given number of bytes.<br>\n",
    "**Cython**: Python project to automatically generate Python bindings for C++ scripts.<br>\n",
    "**Python vs C++**: simple but slow vs fast but complicated.\n",
    "## Goals\n",
    "* C++ project to read fixed-width files into in-memory Apache Arrow tables.\n",
    "* Includes Cython-made Python bindings for accessibility and integration with Python projects.\n",
    "\n",
    "We use Apache Arrow's CSV reader as a base since it required only fairly minimal changes for this application.\n",
    "* Modify the reader to optionally decode on read-in.\n",
    "* Modify the parser to use field widths instead of a delimiter to separate the input stream into fields.\n",
    "* Modify the converter to optionally convert COBOL-formatted numeric types to standard numeric types.\n",
    "\n",
    "## Use\n",
    "For installation, see this repo's README.\n",
    "\n",
    "First, we'll create an example fixed-width file, including COBOL-formatted numbers, null values and odd spacing."
   ]
  },
  {
   "cell_type": "code",
   "execution_count": 1,
   "metadata": {},
   "outputs": [
    {
     "name": "stdout",
     "output_type": "stream",
     "text": [
      "Writing sample.fwf\n"
     ]
    }
   ],
   "source": [
    "%%file sample.fwf\n",
    "aa           bb     cc  \n",
    "hello        123}   3.56\n",
    "hi           9129A  NaN \n",
    "     spaces   N/A   7.8 \n",
    "NA           3{     0   "
   ]
  },
  {
   "cell_type": "markdown",
   "metadata": {},
   "source": [
    "Now we can run the module on the fixed-width file. See the README for a full list of options. Note that the converter uses preset lists/maps for null values and the COBOL values below. These can be modified through:\n",
    "* convert_options.null_values = \\[some new list\\]\n",
    "* convert_options.\\[pos/neg\\]\\_values = {some new mapping}"
   ]
  },
  {
   "cell_type": "code",
   "execution_count": 2,
   "metadata": {},
   "outputs": [
    {
     "name": "stdout",
     "output_type": "stream",
     "text": [
      "<Column name='aa' type=DataType(string)>\n",
      "[\n",
      "  [\n",
      "    \"hello\",\n",
      "    \"hi\",\n",
      "    \"spaces\",\n",
      "    null\n",
      "  ]\n",
      "]\n",
      "<Column name='bb' type=DataType(int64)>\n",
      "[\n",
      "  [\n",
      "    -1230,\n",
      "    91291,\n",
      "    null,\n",
      "    30\n",
      "  ]\n",
      "]\n",
      "<Column name='cc' type=DataType(double)>\n",
      "[\n",
      "  [\n",
      "    3.56,\n",
      "    null,\n",
      "    7.8,\n",
      "    0\n",
      "  ]\n",
      "]\n"
     ]
    }
   ],
   "source": [
    "import pyfwfr as pf\n",
    "\n",
    "convert_options = pf.ConvertOptions(is_cobol=True, strings_can_be_null=True)\n",
    "parse_options = pf.ParseOptions([13, 7, 4])\n",
    "\n",
    "table = pf.read_fwf('sample.fwf', parse_options, \n",
    "                    convert_options=convert_options)\n",
    "for column in table.columns:\n",
    "    print(column)"
   ]
  }
 ],
 "metadata": {
  "kernelspec": {
   "display_name": "Python 3",
   "language": "python",
   "name": "python3"
  },
  "language_info": {
   "codemirror_mode": {
    "name": "ipython",
    "version": 3
   },
   "file_extension": ".py",
   "mimetype": "text/x-python",
   "name": "python",
   "nbconvert_exporter": "python",
   "pygments_lexer": "ipython3",
   "version": "3.7.3"
  }
 },
 "nbformat": 4,
 "nbformat_minor": 2
}
